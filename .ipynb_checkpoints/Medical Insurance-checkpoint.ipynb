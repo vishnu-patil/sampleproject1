{
 "cells": [
  {
   "cell_type": "markdown",
   "id": "228a3f5d",
   "metadata": {},
   "source": [
    "# Importing Libraries"
   ]
  },
  {
   "cell_type": "code",
   "execution_count": 2,
   "id": "6ce55b08",
   "metadata": {},
   "outputs": [],
   "source": [
    "import pandas as pd\n",
    "import numpy as np\n",
    "import matplotlib.pyplot as plt\n",
    "import seaborn as sns\n",
    "import warnings\n",
    "warnings.filterwarnings('ignore')\n",
    "\n",
    "from statsmodels.stats.outliers_influence import variance_inflation_factor\n",
    "from sklearn.model_selection import train_test_split, GridSearchCV, RandomizedSearchCV\n",
    "from sklearn.linear_model import LinearRegression, Ridge, Lasso\n",
    "from sklearn.metrics import mean_squared_error, mean_absolute_error, r2_score\n",
    "\n",
    "from statsmodels.api import qqplot\n",
    "from scipy.stats import zscore, iqr"
   ]
  },
  {
   "cell_type": "markdown",
   "id": "24c2ee40",
   "metadata": {},
   "source": [
    "# 1] Business Understanding:"
   ]
  },
  {
   "cell_type": "raw",
   "id": "e21fd3a8",
   "metadata": {},
   "source": [
    "-> Predicting the Insurance amount by using given data set.\n",
    "-> Columns:\n",
    "   'age', 'gender', 'bmi', 'children', 'smoker', 'region', 'charges'"
   ]
  },
  {
   "cell_type": "markdown",
   "id": "88cd0c99",
   "metadata": {},
   "source": [
    "# 2] Data Gathering:"
   ]
  },
  {
   "cell_type": "code",
   "execution_count": 3,
   "id": "876db919",
   "metadata": {},
   "outputs": [
    {
     "data": {
      "text/html": [
       "<div>\n",
       "<style scoped>\n",
       "    .dataframe tbody tr th:only-of-type {\n",
       "        vertical-align: middle;\n",
       "    }\n",
       "\n",
       "    .dataframe tbody tr th {\n",
       "        vertical-align: top;\n",
       "    }\n",
       "\n",
       "    .dataframe thead th {\n",
       "        text-align: right;\n",
       "    }\n",
       "</style>\n",
       "<table border=\"1\" class=\"dataframe\">\n",
       "  <thead>\n",
       "    <tr style=\"text-align: right;\">\n",
       "      <th></th>\n",
       "      <th>age</th>\n",
       "      <th>gender</th>\n",
       "      <th>bmi</th>\n",
       "      <th>children</th>\n",
       "      <th>smoker</th>\n",
       "      <th>region</th>\n",
       "      <th>charges</th>\n",
       "    </tr>\n",
       "  </thead>\n",
       "  <tbody>\n",
       "    <tr>\n",
       "      <th>0</th>\n",
       "      <td>19</td>\n",
       "      <td>female</td>\n",
       "      <td>27.900</td>\n",
       "      <td>0</td>\n",
       "      <td>yes</td>\n",
       "      <td>southwest</td>\n",
       "      <td>16884.92400</td>\n",
       "    </tr>\n",
       "    <tr>\n",
       "      <th>1</th>\n",
       "      <td>18</td>\n",
       "      <td>male</td>\n",
       "      <td>33.770</td>\n",
       "      <td>1</td>\n",
       "      <td>no</td>\n",
       "      <td>southeast</td>\n",
       "      <td>1725.55230</td>\n",
       "    </tr>\n",
       "    <tr>\n",
       "      <th>2</th>\n",
       "      <td>28</td>\n",
       "      <td>male</td>\n",
       "      <td>33.000</td>\n",
       "      <td>3</td>\n",
       "      <td>no</td>\n",
       "      <td>southeast</td>\n",
       "      <td>4449.46200</td>\n",
       "    </tr>\n",
       "    <tr>\n",
       "      <th>3</th>\n",
       "      <td>33</td>\n",
       "      <td>male</td>\n",
       "      <td>22.705</td>\n",
       "      <td>0</td>\n",
       "      <td>no</td>\n",
       "      <td>northwest</td>\n",
       "      <td>21984.47061</td>\n",
       "    </tr>\n",
       "    <tr>\n",
       "      <th>4</th>\n",
       "      <td>32</td>\n",
       "      <td>male</td>\n",
       "      <td>28.880</td>\n",
       "      <td>0</td>\n",
       "      <td>no</td>\n",
       "      <td>northwest</td>\n",
       "      <td>3866.85520</td>\n",
       "    </tr>\n",
       "    <tr>\n",
       "      <th>...</th>\n",
       "      <td>...</td>\n",
       "      <td>...</td>\n",
       "      <td>...</td>\n",
       "      <td>...</td>\n",
       "      <td>...</td>\n",
       "      <td>...</td>\n",
       "      <td>...</td>\n",
       "    </tr>\n",
       "    <tr>\n",
       "      <th>1333</th>\n",
       "      <td>50</td>\n",
       "      <td>male</td>\n",
       "      <td>30.970</td>\n",
       "      <td>3</td>\n",
       "      <td>no</td>\n",
       "      <td>northwest</td>\n",
       "      <td>10600.54830</td>\n",
       "    </tr>\n",
       "    <tr>\n",
       "      <th>1334</th>\n",
       "      <td>18</td>\n",
       "      <td>female</td>\n",
       "      <td>31.920</td>\n",
       "      <td>0</td>\n",
       "      <td>no</td>\n",
       "      <td>northeast</td>\n",
       "      <td>2205.98080</td>\n",
       "    </tr>\n",
       "    <tr>\n",
       "      <th>1335</th>\n",
       "      <td>18</td>\n",
       "      <td>female</td>\n",
       "      <td>36.850</td>\n",
       "      <td>0</td>\n",
       "      <td>no</td>\n",
       "      <td>southeast</td>\n",
       "      <td>1629.83350</td>\n",
       "    </tr>\n",
       "    <tr>\n",
       "      <th>1336</th>\n",
       "      <td>21</td>\n",
       "      <td>female</td>\n",
       "      <td>25.800</td>\n",
       "      <td>0</td>\n",
       "      <td>no</td>\n",
       "      <td>southwest</td>\n",
       "      <td>2007.94500</td>\n",
       "    </tr>\n",
       "    <tr>\n",
       "      <th>1337</th>\n",
       "      <td>61</td>\n",
       "      <td>female</td>\n",
       "      <td>29.070</td>\n",
       "      <td>0</td>\n",
       "      <td>yes</td>\n",
       "      <td>northwest</td>\n",
       "      <td>29141.36030</td>\n",
       "    </tr>\n",
       "  </tbody>\n",
       "</table>\n",
       "<p>1338 rows × 7 columns</p>\n",
       "</div>"
      ],
      "text/plain": [
       "      age  gender     bmi  children smoker     region      charges\n",
       "0      19  female  27.900         0    yes  southwest  16884.92400\n",
       "1      18    male  33.770         1     no  southeast   1725.55230\n",
       "2      28    male  33.000         3     no  southeast   4449.46200\n",
       "3      33    male  22.705         0     no  northwest  21984.47061\n",
       "4      32    male  28.880         0     no  northwest   3866.85520\n",
       "...   ...     ...     ...       ...    ...        ...          ...\n",
       "1333   50    male  30.970         3     no  northwest  10600.54830\n",
       "1334   18  female  31.920         0     no  northeast   2205.98080\n",
       "1335   18  female  36.850         0     no  southeast   1629.83350\n",
       "1336   21  female  25.800         0     no  southwest   2007.94500\n",
       "1337   61  female  29.070         0    yes  northwest  29141.36030\n",
       "\n",
       "[1338 rows x 7 columns]"
      ]
     },
     "execution_count": 3,
     "metadata": {},
     "output_type": "execute_result"
    }
   ],
   "source": [
    "df = pd.read_csv(\"medical_insurance.csv\")\n",
    "df"
   ]
  },
  {
   "cell_type": "markdown",
   "id": "54da7607",
   "metadata": {},
   "source": [
    "# 3,4] EDA / Feature Engg.:"
   ]
  },
  {
   "cell_type": "code",
   "execution_count": 4,
   "id": "20040e76",
   "metadata": {},
   "outputs": [
    {
     "name": "stdout",
     "output_type": "stream",
     "text": [
      "<class 'pandas.core.frame.DataFrame'>\n",
      "RangeIndex: 1338 entries, 0 to 1337\n",
      "Data columns (total 7 columns):\n",
      " #   Column    Non-Null Count  Dtype  \n",
      "---  ------    --------------  -----  \n",
      " 0   age       1338 non-null   int64  \n",
      " 1   gender    1338 non-null   object \n",
      " 2   bmi       1338 non-null   float64\n",
      " 3   children  1338 non-null   int64  \n",
      " 4   smoker    1338 non-null   object \n",
      " 5   region    1338 non-null   object \n",
      " 6   charges   1338 non-null   float64\n",
      "dtypes: float64(2), int64(2), object(3)\n",
      "memory usage: 73.3+ KB\n"
     ]
    }
   ],
   "source": [
    "df.info()"
   ]
  },
  {
   "cell_type": "raw",
   "id": "add75931",
   "metadata": {},
   "source": [
    "-> No need to impute missing values.\n",
    "-> Encoding required on some specific features.\n",
    "   1] gender\n",
    "   2] smoker    \n",
    "   3] region"
   ]
  },
  {
   "cell_type": "markdown",
   "id": "09253022",
   "metadata": {},
   "source": [
    "##### 3.1] gender"
   ]
  },
  {
   "cell_type": "code",
   "execution_count": 5,
   "id": "bfc199f8",
   "metadata": {},
   "outputs": [
    {
     "data": {
      "text/plain": [
       "{'male': 676, 'female': 662}"
      ]
     },
     "execution_count": 5,
     "metadata": {},
     "output_type": "execute_result"
    }
   ],
   "source": [
    "df['gender'].value_counts().to_dict()"
   ]
  },
  {
   "cell_type": "code",
   "execution_count": 6,
   "id": "b755c313",
   "metadata": {},
   "outputs": [],
   "source": [
    "df['gender'].replace({'male': 1, 'female': 0}, inplace = True)"
   ]
  },
  {
   "cell_type": "markdown",
   "id": "12648417",
   "metadata": {},
   "source": [
    "##### 3.2] smoker"
   ]
  },
  {
   "cell_type": "code",
   "execution_count": 7,
   "id": "ea98b03f",
   "metadata": {},
   "outputs": [
    {
     "data": {
      "text/plain": [
       "{'no': 1064, 'yes': 274}"
      ]
     },
     "execution_count": 7,
     "metadata": {},
     "output_type": "execute_result"
    }
   ],
   "source": [
    "df['smoker'].value_counts().to_dict()"
   ]
  },
  {
   "cell_type": "code",
   "execution_count": 8,
   "id": "4eeb9e4e",
   "metadata": {},
   "outputs": [],
   "source": [
    "df['smoker'].replace({'no': 1, 'yes': 0}, inplace = True)"
   ]
  },
  {
   "cell_type": "markdown",
   "id": "98394751",
   "metadata": {},
   "source": [
    "##### 3.3] region"
   ]
  },
  {
   "cell_type": "code",
   "execution_count": 9,
   "id": "bbcc48bb",
   "metadata": {},
   "outputs": [],
   "source": [
    "df = pd.get_dummies(df, columns = ['region'])"
   ]
  },
  {
   "cell_type": "code",
   "execution_count": 10,
   "id": "0aa9611c",
   "metadata": {},
   "outputs": [
    {
     "data": {
      "text/html": [
       "<div>\n",
       "<style scoped>\n",
       "    .dataframe tbody tr th:only-of-type {\n",
       "        vertical-align: middle;\n",
       "    }\n",
       "\n",
       "    .dataframe tbody tr th {\n",
       "        vertical-align: top;\n",
       "    }\n",
       "\n",
       "    .dataframe thead th {\n",
       "        text-align: right;\n",
       "    }\n",
       "</style>\n",
       "<table border=\"1\" class=\"dataframe\">\n",
       "  <thead>\n",
       "    <tr style=\"text-align: right;\">\n",
       "      <th></th>\n",
       "      <th>age</th>\n",
       "      <th>gender</th>\n",
       "      <th>bmi</th>\n",
       "      <th>children</th>\n",
       "      <th>smoker</th>\n",
       "      <th>charges</th>\n",
       "      <th>region_northeast</th>\n",
       "      <th>region_northwest</th>\n",
       "      <th>region_southeast</th>\n",
       "      <th>region_southwest</th>\n",
       "    </tr>\n",
       "  </thead>\n",
       "  <tbody>\n",
       "    <tr>\n",
       "      <th>0</th>\n",
       "      <td>19</td>\n",
       "      <td>0</td>\n",
       "      <td>27.900</td>\n",
       "      <td>0</td>\n",
       "      <td>0</td>\n",
       "      <td>16884.92400</td>\n",
       "      <td>0</td>\n",
       "      <td>0</td>\n",
       "      <td>0</td>\n",
       "      <td>1</td>\n",
       "    </tr>\n",
       "    <tr>\n",
       "      <th>1</th>\n",
       "      <td>18</td>\n",
       "      <td>1</td>\n",
       "      <td>33.770</td>\n",
       "      <td>1</td>\n",
       "      <td>1</td>\n",
       "      <td>1725.55230</td>\n",
       "      <td>0</td>\n",
       "      <td>0</td>\n",
       "      <td>1</td>\n",
       "      <td>0</td>\n",
       "    </tr>\n",
       "    <tr>\n",
       "      <th>2</th>\n",
       "      <td>28</td>\n",
       "      <td>1</td>\n",
       "      <td>33.000</td>\n",
       "      <td>3</td>\n",
       "      <td>1</td>\n",
       "      <td>4449.46200</td>\n",
       "      <td>0</td>\n",
       "      <td>0</td>\n",
       "      <td>1</td>\n",
       "      <td>0</td>\n",
       "    </tr>\n",
       "    <tr>\n",
       "      <th>3</th>\n",
       "      <td>33</td>\n",
       "      <td>1</td>\n",
       "      <td>22.705</td>\n",
       "      <td>0</td>\n",
       "      <td>1</td>\n",
       "      <td>21984.47061</td>\n",
       "      <td>0</td>\n",
       "      <td>1</td>\n",
       "      <td>0</td>\n",
       "      <td>0</td>\n",
       "    </tr>\n",
       "    <tr>\n",
       "      <th>4</th>\n",
       "      <td>32</td>\n",
       "      <td>1</td>\n",
       "      <td>28.880</td>\n",
       "      <td>0</td>\n",
       "      <td>1</td>\n",
       "      <td>3866.85520</td>\n",
       "      <td>0</td>\n",
       "      <td>1</td>\n",
       "      <td>0</td>\n",
       "      <td>0</td>\n",
       "    </tr>\n",
       "    <tr>\n",
       "      <th>...</th>\n",
       "      <td>...</td>\n",
       "      <td>...</td>\n",
       "      <td>...</td>\n",
       "      <td>...</td>\n",
       "      <td>...</td>\n",
       "      <td>...</td>\n",
       "      <td>...</td>\n",
       "      <td>...</td>\n",
       "      <td>...</td>\n",
       "      <td>...</td>\n",
       "    </tr>\n",
       "    <tr>\n",
       "      <th>1333</th>\n",
       "      <td>50</td>\n",
       "      <td>1</td>\n",
       "      <td>30.970</td>\n",
       "      <td>3</td>\n",
       "      <td>1</td>\n",
       "      <td>10600.54830</td>\n",
       "      <td>0</td>\n",
       "      <td>1</td>\n",
       "      <td>0</td>\n",
       "      <td>0</td>\n",
       "    </tr>\n",
       "    <tr>\n",
       "      <th>1334</th>\n",
       "      <td>18</td>\n",
       "      <td>0</td>\n",
       "      <td>31.920</td>\n",
       "      <td>0</td>\n",
       "      <td>1</td>\n",
       "      <td>2205.98080</td>\n",
       "      <td>1</td>\n",
       "      <td>0</td>\n",
       "      <td>0</td>\n",
       "      <td>0</td>\n",
       "    </tr>\n",
       "    <tr>\n",
       "      <th>1335</th>\n",
       "      <td>18</td>\n",
       "      <td>0</td>\n",
       "      <td>36.850</td>\n",
       "      <td>0</td>\n",
       "      <td>1</td>\n",
       "      <td>1629.83350</td>\n",
       "      <td>0</td>\n",
       "      <td>0</td>\n",
       "      <td>1</td>\n",
       "      <td>0</td>\n",
       "    </tr>\n",
       "    <tr>\n",
       "      <th>1336</th>\n",
       "      <td>21</td>\n",
       "      <td>0</td>\n",
       "      <td>25.800</td>\n",
       "      <td>0</td>\n",
       "      <td>1</td>\n",
       "      <td>2007.94500</td>\n",
       "      <td>0</td>\n",
       "      <td>0</td>\n",
       "      <td>0</td>\n",
       "      <td>1</td>\n",
       "    </tr>\n",
       "    <tr>\n",
       "      <th>1337</th>\n",
       "      <td>61</td>\n",
       "      <td>0</td>\n",
       "      <td>29.070</td>\n",
       "      <td>0</td>\n",
       "      <td>0</td>\n",
       "      <td>29141.36030</td>\n",
       "      <td>0</td>\n",
       "      <td>1</td>\n",
       "      <td>0</td>\n",
       "      <td>0</td>\n",
       "    </tr>\n",
       "  </tbody>\n",
       "</table>\n",
       "<p>1338 rows × 10 columns</p>\n",
       "</div>"
      ],
      "text/plain": [
       "      age  gender     bmi  children  smoker      charges  region_northeast  \\\n",
       "0      19       0  27.900         0       0  16884.92400                 0   \n",
       "1      18       1  33.770         1       1   1725.55230                 0   \n",
       "2      28       1  33.000         3       1   4449.46200                 0   \n",
       "3      33       1  22.705         0       1  21984.47061                 0   \n",
       "4      32       1  28.880         0       1   3866.85520                 0   \n",
       "...   ...     ...     ...       ...     ...          ...               ...   \n",
       "1333   50       1  30.970         3       1  10600.54830                 0   \n",
       "1334   18       0  31.920         0       1   2205.98080                 1   \n",
       "1335   18       0  36.850         0       1   1629.83350                 0   \n",
       "1336   21       0  25.800         0       1   2007.94500                 0   \n",
       "1337   61       0  29.070         0       0  29141.36030                 0   \n",
       "\n",
       "      region_northwest  region_southeast  region_southwest  \n",
       "0                    0                 0                 1  \n",
       "1                    0                 1                 0  \n",
       "2                    0                 1                 0  \n",
       "3                    1                 0                 0  \n",
       "4                    1                 0                 0  \n",
       "...                ...               ...               ...  \n",
       "1333                 1                 0                 0  \n",
       "1334                 0                 0                 0  \n",
       "1335                 0                 1                 0  \n",
       "1336                 0                 0                 1  \n",
       "1337                 1                 0                 0  \n",
       "\n",
       "[1338 rows x 10 columns]"
      ]
     },
     "execution_count": 10,
     "metadata": {},
     "output_type": "execute_result"
    }
   ],
   "source": [
    "df"
   ]
  },
  {
   "cell_type": "code",
   "execution_count": 11,
   "id": "7a8ae099",
   "metadata": {},
   "outputs": [
    {
     "name": "stdout",
     "output_type": "stream",
     "text": [
      "<class 'pandas.core.frame.DataFrame'>\n",
      "RangeIndex: 1338 entries, 0 to 1337\n",
      "Data columns (total 10 columns):\n",
      " #   Column            Non-Null Count  Dtype  \n",
      "---  ------            --------------  -----  \n",
      " 0   age               1338 non-null   int64  \n",
      " 1   gender            1338 non-null   int64  \n",
      " 2   bmi               1338 non-null   float64\n",
      " 3   children          1338 non-null   int64  \n",
      " 4   smoker            1338 non-null   int64  \n",
      " 5   charges           1338 non-null   float64\n",
      " 6   region_northeast  1338 non-null   uint8  \n",
      " 7   region_northwest  1338 non-null   uint8  \n",
      " 8   region_southeast  1338 non-null   uint8  \n",
      " 9   region_southwest  1338 non-null   uint8  \n",
      "dtypes: float64(2), int64(4), uint8(4)\n",
      "memory usage: 68.1 KB\n"
     ]
    }
   ],
   "source": [
    "df.info()"
   ]
  },
  {
   "cell_type": "code",
   "execution_count": 12,
   "id": "957b2ba5",
   "metadata": {},
   "outputs": [],
   "source": [
    "df['region_northeast'] = df['region_northeast'].astype(int)\n",
    "df['region_northwest'] = df['region_northwest'].astype(int)\n",
    "df['region_southeast'] = df['region_southeast'].astype(int)\n",
    "df['region_southwest'] = df['region_southwest'].astype(int)"
   ]
  },
  {
   "cell_type": "code",
   "execution_count": 13,
   "id": "64117c08",
   "metadata": {},
   "outputs": [
    {
     "name": "stdout",
     "output_type": "stream",
     "text": [
      "<class 'pandas.core.frame.DataFrame'>\n",
      "RangeIndex: 1338 entries, 0 to 1337\n",
      "Data columns (total 10 columns):\n",
      " #   Column            Non-Null Count  Dtype  \n",
      "---  ------            --------------  -----  \n",
      " 0   age               1338 non-null   int64  \n",
      " 1   gender            1338 non-null   int64  \n",
      " 2   bmi               1338 non-null   float64\n",
      " 3   children          1338 non-null   int64  \n",
      " 4   smoker            1338 non-null   int64  \n",
      " 5   charges           1338 non-null   float64\n",
      " 6   region_northeast  1338 non-null   int32  \n",
      " 7   region_northwest  1338 non-null   int32  \n",
      " 8   region_southeast  1338 non-null   int32  \n",
      " 9   region_southwest  1338 non-null   int32  \n",
      "dtypes: float64(2), int32(4), int64(4)\n",
      "memory usage: 83.8 KB\n"
     ]
    }
   ],
   "source": [
    "df.info()"
   ]
  },
  {
   "cell_type": "markdown",
   "id": "392a89c1",
   "metadata": {},
   "source": [
    "##### Handeling Outliers"
   ]
  },
  {
   "cell_type": "markdown",
   "id": "1066f3b3",
   "metadata": {},
   "source": [
    "##### 1] age:"
   ]
  },
  {
   "cell_type": "code",
   "execution_count": 14,
   "id": "8e8041f3",
   "metadata": {},
   "outputs": [
    {
     "data": {
      "text/plain": [
       "<AxesSubplot: xlabel='age'>"
      ]
     },
     "execution_count": 14,
     "metadata": {},
     "output_type": "execute_result"
    },
    {
     "data": {
      "image/png": "[encoded data removed]",
      "text/plain": [
       "<Figure size 432x288 with 1 Axes>"
      ]
     },
     "metadata": {
      "needs_background": "light"
     },
     "output_type": "display_data"
    }
   ],
   "source": [
    "sns.boxplot(x = df['age']) "
   ]
  },
  {
   "cell_type": "code",
   "execution_count": 15,
   "id": "14e075f1",
   "metadata": {},
   "outputs": [
    {
     "data": {
      "text/plain": [
       "<AxesSubplot: xlabel='age', ylabel='Density'>"
      ]
     },
     "execution_count": 15,
     "metadata": {},
     "output_type": "execute_result"
    },
    {
     "data": {
      "image/png": "[encoded data removed]",
      "text/plain": [
       "<Figure size 432x288 with 1 Axes>"
      ]
     },
     "metadata": {
      "needs_background": "light"
     },
     "output_type": "display_data"
    }
   ],
   "source": [
    "sns.kdeplot(df['age'])  # NO Outliers in age column"
   ]
  },
  {
   "cell_type": "markdown",
   "id": "65997c1d",
   "metadata": {},
   "source": [
    "##### 2] gender:"
   ]
  },
  {
   "cell_type": "code",
   "execution_count": 16,
   "id": "89466319",
   "metadata": {},
   "outputs": [
    {
     "data": {
      "text/plain": [
       "<AxesSubplot: xlabel='gender'>"
      ]
     },
     "execution_count": 16,
     "metadata": {},
     "output_type": "execute_result"
    },
    {
     "data": {
      "image/png": "[encoded data removed]",
      "text/plain": [
       "<Figure size 432x288 with 1 Axes>"
      ]
     },
     "metadata": {
      "needs_background": "light"
     },
     "output_type": "display_data"
    }
   ],
   "source": [
    "sns.boxplot(x = df['gender'])"
   ]
  },
  {
   "cell_type": "code",
   "execution_count": 17,
   "id": "5db14f7b",
   "metadata": {},
   "outputs": [
    {
     "data": {
      "text/plain": [
       "<AxesSubplot: xlabel='gender', ylabel='Density'>"
      ]
     },
     "execution_count": 17,
     "metadata": {},
     "output_type": "execute_result"
    },
    {
     "data": {
      "image/png": "[encoded data removed]",
      "text/plain": [
       "<Figure size 432x288 with 1 Axes>"
      ]
     },
     "metadata": {
      "needs_background": "light"
     },
     "output_type": "display_data"
    }
   ],
   "source": [
    "sns.kdeplot(df['gender'])  # No Outliers"
   ]
  },
  {
   "cell_type": "markdown",
   "id": "178466e4",
   "metadata": {},
   "source": [
    "##### 3] bmi:"
   ]
  },
  {
   "cell_type": "code",
   "execution_count": 18,
   "id": "65dd624e",
   "metadata": {},
   "outputs": [
    {
     "data": {
      "text/plain": [
       "<AxesSubplot: xlabel='bmi'>"
      ]
     },
     "execution_count": 18,
     "metadata": {},
     "output_type": "execute_result"
    },
    {
     "data": {
      "image/png": "[encoded data removed]",
      "text/plain": [
       "<Figure size 432x288 with 1 Axes>"
      ]
     },
     "metadata": {
      "needs_background": "light"
     },
     "output_type": "display_data"
    }
   ],
   "source": [
    "sns.boxplot(x = df['bmi'])"
   ]
  },
  {
   "cell_type": "code",
   "execution_count": 19,
   "id": "6d7b68d4",
   "metadata": {},
   "outputs": [
    {
     "data": {
      "text/plain": [
       "<AxesSubplot: xlabel='bmi', ylabel='Density'>"
      ]
     },
     "execution_count": 19,
     "metadata": {},
     "output_type": "execute_result"
    },
    {
     "data": {
      "image/png": "[encoded data removed]",
      "text/plain": [
       "<Figure size 432x288 with 1 Axes>"
      ]
     },
     "metadata": {
      "needs_background": "light"
     },
     "output_type": "display_data"
    }
   ],
   "source": [
    "sns.kdeplot(df['bmi'])"
   ]
  },
  {
   "cell_type": "code",
   "execution_count": 20,
   "id": "1bcac82b",
   "metadata": {},
   "outputs": [
    {
     "data": {
      "text/plain": [
       "8.3975"
      ]
     },
     "execution_count": 20,
     "metadata": {},
     "output_type": "execute_result"
    }
   ],
   "source": [
    "Q1  = df['bmi'].quantile(0.25)\n",
    "Q3  = df['bmi'].quantile(0.75)\n",
    "\n",
    "IQR = Q3 - Q1\n",
    "IQR"
   ]
  },
  {
   "cell_type": "code",
   "execution_count": 21,
   "id": "6327e449",
   "metadata": {},
   "outputs": [
    {
     "data": {
      "text/plain": [
       "8.3975"
      ]
     },
     "execution_count": 21,
     "metadata": {},
     "output_type": "execute_result"
    }
   ],
   "source": [
    "IQR = iqr(df['bmi'])\n",
    "IQR"
   ]
  },
  {
   "cell_type": "code",
   "execution_count": 22,
   "id": "1b18508a",
   "metadata": {},
   "outputs": [
    {
     "name": "stdout",
     "output_type": "stream",
     "text": [
      "Lower Tail: 13.7\n",
      "Upper Tail: 47.290000000000006\n"
     ]
    }
   ],
   "source": [
    "lower_tail = Q1 - 1.5 * IQR\n",
    "upper_tail = Q3 + 1.5 * IQR\n",
    "print(\"Lower Tail:\",lower_tail)\n",
    "print(\"Upper Tail:\",upper_tail)"
   ]
  },
  {
   "cell_type": "code",
   "execution_count": 23,
   "id": "5d27687c",
   "metadata": {},
   "outputs": [
    {
     "data": {
      "text/html": [
       "<div>\n",
       "<style scoped>\n",
       "    .dataframe tbody tr th:only-of-type {\n",
       "        vertical-align: middle;\n",
       "    }\n",
       "\n",
       "    .dataframe tbody tr th {\n",
       "        vertical-align: top;\n",
       "    }\n",
       "\n",
       "    .dataframe thead th {\n",
       "        text-align: right;\n",
       "    }\n",
       "</style>\n",
       "<table border=\"1\" class=\"dataframe\">\n",
       "  <thead>\n",
       "    <tr style=\"text-align: right;\">\n",
       "      <th></th>\n",
       "      <th>age</th>\n",
       "      <th>gender</th>\n",
       "      <th>bmi</th>\n",
       "      <th>children</th>\n",
       "      <th>smoker</th>\n",
       "      <th>charges</th>\n",
       "      <th>region_northeast</th>\n",
       "      <th>region_northwest</th>\n",
       "      <th>region_southeast</th>\n",
       "      <th>region_southwest</th>\n",
       "    </tr>\n",
       "  </thead>\n",
       "  <tbody>\n",
       "    <tr>\n",
       "      <th>116</th>\n",
       "      <td>58</td>\n",
       "      <td>1</td>\n",
       "      <td>49.06</td>\n",
       "      <td>0</td>\n",
       "      <td>1</td>\n",
       "      <td>11381.32540</td>\n",
       "      <td>0</td>\n",
       "      <td>0</td>\n",
       "      <td>1</td>\n",
       "      <td>0</td>\n",
       "    </tr>\n",
       "    <tr>\n",
       "      <th>286</th>\n",
       "      <td>46</td>\n",
       "      <td>0</td>\n",
       "      <td>48.07</td>\n",
       "      <td>2</td>\n",
       "      <td>1</td>\n",
       "      <td>9432.92530</td>\n",
       "      <td>1</td>\n",
       "      <td>0</td>\n",
       "      <td>0</td>\n",
       "      <td>0</td>\n",
       "    </tr>\n",
       "    <tr>\n",
       "      <th>401</th>\n",
       "      <td>47</td>\n",
       "      <td>1</td>\n",
       "      <td>47.52</td>\n",
       "      <td>1</td>\n",
       "      <td>1</td>\n",
       "      <td>8083.91980</td>\n",
       "      <td>0</td>\n",
       "      <td>0</td>\n",
       "      <td>1</td>\n",
       "      <td>0</td>\n",
       "    </tr>\n",
       "    <tr>\n",
       "      <th>543</th>\n",
       "      <td>54</td>\n",
       "      <td>0</td>\n",
       "      <td>47.41</td>\n",
       "      <td>0</td>\n",
       "      <td>0</td>\n",
       "      <td>63770.42801</td>\n",
       "      <td>0</td>\n",
       "      <td>0</td>\n",
       "      <td>1</td>\n",
       "      <td>0</td>\n",
       "    </tr>\n",
       "    <tr>\n",
       "      <th>847</th>\n",
       "      <td>23</td>\n",
       "      <td>1</td>\n",
       "      <td>50.38</td>\n",
       "      <td>1</td>\n",
       "      <td>1</td>\n",
       "      <td>2438.05520</td>\n",
       "      <td>0</td>\n",
       "      <td>0</td>\n",
       "      <td>1</td>\n",
       "      <td>0</td>\n",
       "    </tr>\n",
       "    <tr>\n",
       "      <th>860</th>\n",
       "      <td>37</td>\n",
       "      <td>0</td>\n",
       "      <td>47.60</td>\n",
       "      <td>2</td>\n",
       "      <td>0</td>\n",
       "      <td>46113.51100</td>\n",
       "      <td>0</td>\n",
       "      <td>0</td>\n",
       "      <td>0</td>\n",
       "      <td>1</td>\n",
       "    </tr>\n",
       "    <tr>\n",
       "      <th>1047</th>\n",
       "      <td>22</td>\n",
       "      <td>1</td>\n",
       "      <td>52.58</td>\n",
       "      <td>1</td>\n",
       "      <td>0</td>\n",
       "      <td>44501.39820</td>\n",
       "      <td>0</td>\n",
       "      <td>0</td>\n",
       "      <td>1</td>\n",
       "      <td>0</td>\n",
       "    </tr>\n",
       "    <tr>\n",
       "      <th>1088</th>\n",
       "      <td>52</td>\n",
       "      <td>1</td>\n",
       "      <td>47.74</td>\n",
       "      <td>1</td>\n",
       "      <td>1</td>\n",
       "      <td>9748.91060</td>\n",
       "      <td>0</td>\n",
       "      <td>0</td>\n",
       "      <td>1</td>\n",
       "      <td>0</td>\n",
       "    </tr>\n",
       "    <tr>\n",
       "      <th>1317</th>\n",
       "      <td>18</td>\n",
       "      <td>1</td>\n",
       "      <td>53.13</td>\n",
       "      <td>0</td>\n",
       "      <td>1</td>\n",
       "      <td>1163.46270</td>\n",
       "      <td>0</td>\n",
       "      <td>0</td>\n",
       "      <td>1</td>\n",
       "      <td>0</td>\n",
       "    </tr>\n",
       "  </tbody>\n",
       "</table>\n",
       "</div>"
      ],
      "text/plain": [
       "      age  gender    bmi  children  smoker      charges  region_northeast  \\\n",
       "116    58       1  49.06         0       1  11381.32540                 0   \n",
       "286    46       0  48.07         2       1   9432.92530                 1   \n",
       "401    47       1  47.52         1       1   8083.91980                 0   \n",
       "543    54       0  47.41         0       0  63770.42801                 0   \n",
       "847    23       1  50.38         1       1   2438.05520                 0   \n",
       "860    37       0  47.60         2       0  46113.51100                 0   \n",
       "1047   22       1  52.58         1       0  44501.39820                 0   \n",
       "1088   52       1  47.74         1       1   9748.91060                 0   \n",
       "1317   18       1  53.13         0       1   1163.46270                 0   \n",
       "\n",
       "      region_northwest  region_southeast  region_southwest  \n",
       "116                  0                 1                 0  \n",
       "286                  0                 0                 0  \n",
       "401                  0                 1                 0  \n",
       "543                  0                 1                 0  \n",
       "847                  0                 1                 0  \n",
       "860                  0                 0                 1  \n",
       "1047                 0                 1                 0  \n",
       "1088                 0                 1                 0  \n",
       "1317                 0                 1                 0  "
      ]
     },
     "execution_count": 23,
     "metadata": {},
     "output_type": "execute_result"
    }
   ],
   "source": [
    "df.loc[(df['bmi'] < lower_tail) | (df['bmi'] > upper_tail)]"
   ]
  },
  {
   "cell_type": "code",
   "execution_count": 24,
   "id": "1da52389",
   "metadata": {},
   "outputs": [],
   "source": [
    "df['bmi'] = np.where(df['bmi'] > upper_tail, upper_tail, df['bmi'])"
   ]
  },
  {
   "cell_type": "code",
   "execution_count": 25,
   "id": "f3f418f9",
   "metadata": {
    "scrolled": true
   },
   "outputs": [
    {
     "data": {
      "text/plain": [
       "<AxesSubplot: xlabel='bmi'>"
      ]
     },
     "execution_count": 25,
     "metadata": {},
     "output_type": "execute_result"
    },
    {
     "data": {
      "image/png": "[encoded data removed]",
      "text/plain": [
       "<Figure size 432x288 with 1 Axes>"
      ]
     },
     "metadata": {
      "needs_background": "light"
     },
     "output_type": "display_data"
    }
   ],
   "source": [
    "sns.boxplot(x = df['bmi']) # No Outliers in bmi column"
   ]
  },
  {
   "cell_type": "code",
   "execution_count": 26,
   "id": "1466b16e",
   "metadata": {},
   "outputs": [
    {
     "data": {
      "text/plain": [
       "<AxesSubplot: xlabel='bmi', ylabel='Density'>"
      ]
     },
     "execution_count": 26,
     "metadata": {},
     "output_type": "execute_result"
    },
    {
     "data": {
      "image/png": "[encoded data removed]",
      "text/plain": [
       "<Figure size 432x288 with 1 Axes>"
      ]
     },
     "metadata": {
      "needs_background": "light"
     },
     "output_type": "display_data"
    }
   ],
   "source": [
    "sns.kdeplot(x = df['bmi'])"
   ]
  },
  {
   "cell_type": "markdown",
   "id": "499788a0",
   "metadata": {},
   "source": [
    "##### 4] children:"
   ]
  },
  {
   "cell_type": "code",
   "execution_count": 27,
   "id": "cb764e0c",
   "metadata": {},
   "outputs": [
    {
     "data": {
      "text/plain": [
       "<AxesSubplot: xlabel='children'>"
      ]
     },
     "execution_count": 27,
     "metadata": {},
     "output_type": "execute_result"
    },
    {
     "data": {
      "image/png": "[encoded data removed]",
      "text/plain": [
       "<Figure size 432x288 with 1 Axes>"
      ]
     },
     "metadata": {
      "needs_background": "light"
     },
     "output_type": "display_data"
    }
   ],
   "source": [
    "sns.boxplot(x = df['children']) # No Outliers in children column"
   ]
  },
  {
   "cell_type": "markdown",
   "id": "e884e62c",
   "metadata": {},
   "source": [
    "##### 5] smoker:"
   ]
  },
  {
   "cell_type": "code",
   "execution_count": 28,
   "id": "6a3f6c70",
   "metadata": {},
   "outputs": [
    {
     "data": {
      "text/plain": [
       "<AxesSubplot: xlabel='smoker'>"
      ]
     },
     "execution_count": 28,
     "metadata": {},
     "output_type": "execute_result"
    },
    {
     "data": {
      "image/png": "[encoded data removed]",
      "text/plain": [
       "<Figure size 432x288 with 1 Axes>"
      ]
     },
     "metadata": {
      "needs_background": "light"
     },
     "output_type": "display_data"
    }
   ],
   "source": [
    "sns.boxplot(x = df['smoker'])"
   ]
  },
  {
   "cell_type": "code",
   "execution_count": 29,
   "id": "5011f566",
   "metadata": {},
   "outputs": [
    {
     "data": {
      "text/plain": [
       "<AxesSubplot: xlabel='smoker', ylabel='Density'>"
      ]
     },
     "execution_count": 29,
     "metadata": {},
     "output_type": "execute_result"
    },
    {
     "data": {
      "image/png": "[encoded data removed]",
      "text/plain": [
       "<Figure size 432x288 with 1 Axes>"
      ]
     },
     "metadata": {
      "needs_background": "light"
     },
     "output_type": "display_data"
    }
   ],
   "source": [
    "sns.kdeplot(df['smoker'])"
   ]
  },
  {
   "cell_type": "markdown",
   "id": "3ded7d22",
   "metadata": {},
   "source": [
    "##### 6] charges:"
   ]
  },
  {
   "cell_type": "code",
   "execution_count": 30,
   "id": "20f00e4b",
   "metadata": {},
   "outputs": [
    {
     "data": {
      "text/plain": [
       "<AxesSubplot: xlabel='charges'>"
      ]
     },
     "execution_count": 30,
     "metadata": {},
     "output_type": "execute_result"
    },
    {
     "data": {
      "image/png": "[encoded data removed]",
      "text/plain": [
       "<Figure size 432x288 with 1 Axes>"
      ]
     },
     "metadata": {
      "needs_background": "light"
     },
     "output_type": "display_data"
    }
   ],
   "source": [
    "sns.boxplot(x = df['charges'])"
   ]
  },
  {
   "cell_type": "code",
   "execution_count": 31,
   "id": "9bd8e7d8",
   "metadata": {},
   "outputs": [
    {
     "data": {
      "text/plain": [
       "<AxesSubplot: xlabel='charges', ylabel='Density'>"
      ]
     },
     "execution_count": 31,
     "metadata": {},
     "output_type": "execute_result"
    },
    {
     "data": {
      "image/png": "[encoded data removed]",
      "text/plain": [
       "<Figure size 432x288 with 1 Axes>"
      ]
     },
     "metadata": {
      "needs_background": "light"
     },
     "output_type": "display_data"
    }
   ],
   "source": [
    "sns.kdeplot(df['charges'])"
   ]
  },
  {
   "cell_type": "code",
   "execution_count": 32,
   "id": "b24d7311",
   "metadata": {
    "scrolled": true
   },
   "outputs": [
    {
     "data": {
      "text/plain": [
       "<AxesSubplot: xlabel='charges'>"
      ]
     },
     "execution_count": 32,
     "metadata": {},
     "output_type": "execute_result"
    },
    {
     "data": {
      "image/png": "[encoded data removed]",
      "text/plain": [
       "<Figure size 432x288 with 1 Axes>"
      ]
     },
     "metadata": {
      "needs_background": "light"
     },
     "output_type": "display_data"
    }
   ],
   "source": [
    "sns.boxplot(x = np.log(df['charges']))"
   ]
  },
  {
   "cell_type": "code",
   "execution_count": 33,
   "id": "c057cebe",
   "metadata": {},
   "outputs": [
    {
     "data": {
      "text/plain": [
       "<AxesSubplot: xlabel='charges', ylabel='Density'>"
      ]
     },
     "execution_count": 33,
     "metadata": {},
     "output_type": "execute_result"
    },
    {
     "data": {
      "image/png": "[encoded data removed]",
      "text/plain": [
       "<Figure size 432x288 with 1 Axes>"
      ]
     },
     "metadata": {
      "needs_background": "light"
     },
     "output_type": "display_data"
    }
   ],
   "source": [
    "sns.kdeplot(np.log(df['charges']))"
   ]
  },
  {
   "cell_type": "code",
   "execution_count": 34,
   "id": "aad5039c",
   "metadata": {},
   "outputs": [],
   "source": [
    "df['charges'] = np.log(df['charges'])"
   ]
  },
  {
   "cell_type": "code",
   "execution_count": 35,
   "id": "377bf8c9",
   "metadata": {},
   "outputs": [
    {
     "data": {
      "text/plain": [
       "<AxesSubplot: xlabel='charges', ylabel='Density'>"
      ]
     },
     "execution_count": 35,
     "metadata": {},
     "output_type": "execute_result"
    },
    {
     "data": {
      "image/png": "[encoded data removed]",
      "text/plain": [
       "<Figure size 432x288 with 1 Axes>"
      ]
     },
     "metadata": {
      "needs_background": "light"
     },
     "output_type": "display_data"
    }
   ],
   "source": [
    "sns.kdeplot(np.log(df['charges']))"
   ]
  },
  {
   "cell_type": "markdown",
   "id": "4ac093b2",
   "metadata": {},
   "source": [
    "# 5] Feature Selection:"
   ]
  },
  {
   "cell_type": "markdown",
   "id": "ec64c7c4",
   "metadata": {},
   "source": [
    "##### 1] Linearity:"
   ]
  },
  {
   "cell_type": "code",
   "execution_count": 36,
   "id": "6ad35ba7",
   "metadata": {},
   "outputs": [
    {
     "data": {
      "text/plain": [
       "<AxesSubplot: >"
      ]
     },
     "execution_count": 36,
     "metadata": {},
     "output_type": "execute_result"
    },
    {
     "data": {
      "image/png": "[encoded data removed]",
      "text/plain": [
       "<Figure size 864x72 with 2 Axes>"
      ]
     },
     "metadata": {
      "needs_background": "light"
     },
     "output_type": "display_data"
    }
   ],
   "source": [
    "plt.figure(figsize=(12,1))\n",
    "sns.heatmap(df.iloc[:,:6].corr().tail(1),annot=True)"
   ]
  },
  {
   "cell_type": "markdown",
   "id": "40ce4b50",
   "metadata": {},
   "source": [
    "##### 2] No Multicollinearity:"
   ]
  },
  {
   "cell_type": "code",
   "execution_count": 37,
   "id": "2004019c",
   "metadata": {},
   "outputs": [
    {
     "data": {
      "text/html": [
       "<div>\n",
       "<style scoped>\n",
       "    .dataframe tbody tr th:only-of-type {\n",
       "        vertical-align: middle;\n",
       "    }\n",
       "\n",
       "    .dataframe tbody tr th {\n",
       "        vertical-align: top;\n",
       "    }\n",
       "\n",
       "    .dataframe thead th {\n",
       "        text-align: right;\n",
       "    }\n",
       "</style>\n",
       "<table border=\"1\" class=\"dataframe\">\n",
       "  <thead>\n",
       "    <tr style=\"text-align: right;\">\n",
       "      <th></th>\n",
       "      <th>age</th>\n",
       "      <th>gender</th>\n",
       "      <th>bmi</th>\n",
       "      <th>children</th>\n",
       "      <th>smoker</th>\n",
       "    </tr>\n",
       "  </thead>\n",
       "  <tbody>\n",
       "    <tr>\n",
       "      <th>0</th>\n",
       "      <td>19</td>\n",
       "      <td>0</td>\n",
       "      <td>27.900</td>\n",
       "      <td>0</td>\n",
       "      <td>0</td>\n",
       "    </tr>\n",
       "    <tr>\n",
       "      <th>1</th>\n",
       "      <td>18</td>\n",
       "      <td>1</td>\n",
       "      <td>33.770</td>\n",
       "      <td>1</td>\n",
       "      <td>1</td>\n",
       "    </tr>\n",
       "    <tr>\n",
       "      <th>2</th>\n",
       "      <td>28</td>\n",
       "      <td>1</td>\n",
       "      <td>33.000</td>\n",
       "      <td>3</td>\n",
       "      <td>1</td>\n",
       "    </tr>\n",
       "    <tr>\n",
       "      <th>3</th>\n",
       "      <td>33</td>\n",
       "      <td>1</td>\n",
       "      <td>22.705</td>\n",
       "      <td>0</td>\n",
       "      <td>1</td>\n",
       "    </tr>\n",
       "    <tr>\n",
       "      <th>4</th>\n",
       "      <td>32</td>\n",
       "      <td>1</td>\n",
       "      <td>28.880</td>\n",
       "      <td>0</td>\n",
       "      <td>1</td>\n",
       "    </tr>\n",
       "    <tr>\n",
       "      <th>...</th>\n",
       "      <td>...</td>\n",
       "      <td>...</td>\n",
       "      <td>...</td>\n",
       "      <td>...</td>\n",
       "      <td>...</td>\n",
       "    </tr>\n",
       "    <tr>\n",
       "      <th>1333</th>\n",
       "      <td>50</td>\n",
       "      <td>1</td>\n",
       "      <td>30.970</td>\n",
       "      <td>3</td>\n",
       "      <td>1</td>\n",
       "    </tr>\n",
       "    <tr>\n",
       "      <th>1334</th>\n",
       "      <td>18</td>\n",
       "      <td>0</td>\n",
       "      <td>31.920</td>\n",
       "      <td>0</td>\n",
       "      <td>1</td>\n",
       "    </tr>\n",
       "    <tr>\n",
       "      <th>1335</th>\n",
       "      <td>18</td>\n",
       "      <td>0</td>\n",
       "      <td>36.850</td>\n",
       "      <td>0</td>\n",
       "      <td>1</td>\n",
       "    </tr>\n",
       "    <tr>\n",
       "      <th>1336</th>\n",
       "      <td>21</td>\n",
       "      <td>0</td>\n",
       "      <td>25.800</td>\n",
       "      <td>0</td>\n",
       "      <td>1</td>\n",
       "    </tr>\n",
       "    <tr>\n",
       "      <th>1337</th>\n",
       "      <td>61</td>\n",
       "      <td>0</td>\n",
       "      <td>29.070</td>\n",
       "      <td>0</td>\n",
       "      <td>0</td>\n",
       "    </tr>\n",
       "  </tbody>\n",
       "</table>\n",
       "<p>1338 rows × 5 columns</p>\n",
       "</div>"
      ],
      "text/plain": [
       "      age  gender     bmi  children  smoker\n",
       "0      19       0  27.900         0       0\n",
       "1      18       1  33.770         1       1\n",
       "2      28       1  33.000         3       1\n",
       "3      33       1  22.705         0       1\n",
       "4      32       1  28.880         0       1\n",
       "...   ...     ...     ...       ...     ...\n",
       "1333   50       1  30.970         3       1\n",
       "1334   18       0  31.920         0       1\n",
       "1335   18       0  36.850         0       1\n",
       "1336   21       0  25.800         0       1\n",
       "1337   61       0  29.070         0       0\n",
       "\n",
       "[1338 rows x 5 columns]"
      ]
     },
     "execution_count": 37,
     "metadata": {},
     "output_type": "execute_result"
    }
   ],
   "source": [
    "sample_df = df.iloc[:,:5]\n",
    "sample_df"
   ]
  },
  {
   "cell_type": "code",
   "execution_count": 38,
   "id": "59220b05",
   "metadata": {},
   "outputs": [
    {
     "name": "stdout",
     "output_type": "stream",
     "text": [
      "VIF for age: 7.7819694505265\n",
      "VIF for gender: 1.9858772983789679\n",
      "VIF for bmi: 10.622650268773947\n",
      "VIF for children: 1.801978159144128\n",
      "VIF for smoker: 4.379495744218551\n"
     ]
    }
   ],
   "source": [
    "for i in range(sample_df.shape[1]):\n",
    "    vif = variance_inflation_factor(sample_df,i)\n",
    "    print(f\"VIF for {sample_df.columns[i]}:\",vif)"
   ]
  },
  {
   "cell_type": "markdown",
   "id": "ba1e0e6b",
   "metadata": {},
   "source": [
    "##### Train Test Split:"
   ]
  },
  {
   "cell_type": "code",
   "execution_count": 39,
   "id": "58596f39",
   "metadata": {},
   "outputs": [],
   "source": [
    "x = df.drop('charges',axis=1)\n",
    "y = df['charges']"
   ]
  },
  {
   "cell_type": "code",
   "execution_count": 40,
   "id": "94f52adc",
   "metadata": {},
   "outputs": [],
   "source": [
    "x_train, x_test, y_train, y_test = train_test_split(x,y, test_size=0.33, random_state=10)"
   ]
  },
  {
   "cell_type": "markdown",
   "id": "15cc6d65",
   "metadata": {},
   "source": [
    "# 6] Model Training:"
   ]
  },
  {
   "cell_type": "code",
   "execution_count": 41,
   "id": "8b075140",
   "metadata": {},
   "outputs": [
    {
     "data": {
      "text/plain": [
       "LinearRegression()"
      ]
     },
     "execution_count": 41,
     "metadata": {},
     "output_type": "execute_result"
    }
   ],
   "source": [
    "lin_reg = LinearRegression()\n",
    "lin_reg.fit(x_train, y_train)"
   ]
  },
  {
   "cell_type": "markdown",
   "id": "d98e0041",
   "metadata": {},
   "source": [
    "##### 3] Normality of Residuls:"
   ]
  },
  {
   "cell_type": "code",
   "execution_count": 42,
   "id": "ffc1578c",
   "metadata": {},
   "outputs": [],
   "source": [
    "y_pred_train = lin_reg.predict(x_train)"
   ]
  },
  {
   "cell_type": "code",
   "execution_count": 43,
   "id": "f12db70c",
   "metadata": {},
   "outputs": [],
   "source": [
    "residual = y_train - y_pred_train"
   ]
  },
  {
   "cell_type": "code",
   "execution_count": 44,
   "id": "6a8e3788",
   "metadata": {},
   "outputs": [
    {
     "data": {
      "text/plain": [
       "<AxesSubplot: xlabel='charges', ylabel='Density'>"
      ]
     },
     "execution_count": 44,
     "metadata": {},
     "output_type": "execute_result"
    },
    {
     "data": {
      "image/png": "[encoded data removed]",
      "text/plain": [
       "<Figure size 432x288 with 1 Axes>"
      ]
     },
     "metadata": {
      "needs_background": "light"
     },
     "output_type": "display_data"
    }
   ],
   "source": [
    "sns.kdeplot(residual)"
   ]
  },
  {
   "cell_type": "markdown",
   "id": "ec71253f",
   "metadata": {},
   "source": [
    "##### 4] Homoscadasticity:"
   ]
  },
  {
   "cell_type": "code",
   "execution_count": 45,
   "id": "cee3bab0",
   "metadata": {},
   "outputs": [
    {
     "data": {
      "text/plain": [
       "<AxesSubplot: xlabel='charges', ylabel='charges'>"
      ]
     },
     "execution_count": 45,
     "metadata": {},
     "output_type": "execute_result"
    },
    {
     "data": {
      "image/png": "[encoded data removed]",
      "text/plain": [
       "<Figure size 432x288 with 1 Axes>"
      ]
     },
     "metadata": {
      "needs_background": "light"
     },
     "output_type": "display_data"
    }
   ],
   "source": [
    "sns.scatterplot(x = y_train, y = residual)"
   ]
  },
  {
   "cell_type": "markdown",
   "id": "0ffa82ac",
   "metadata": {},
   "source": [
    "### 6.1] Ridge"
   ]
  },
  {
   "cell_type": "code",
   "execution_count": 46,
   "id": "6569712c",
   "metadata": {},
   "outputs": [
    {
     "data": {
      "text/plain": [
       "Ridge(alpha=0.14)"
      ]
     },
     "execution_count": 46,
     "metadata": {},
     "output_type": "execute_result"
    }
   ],
   "source": [
    "ridge_model = Ridge()\n",
    "hyperparameter = {\"alpha\":np.arange(0.01,5,0.01)}\n",
    "gscv  = GridSearchCV(ridge_model,hyperparameter,cv=5)\n",
    "gscv.fit(x_train,y_train)\n",
    "gscv.best_estimator_"
   ]
  },
  {
   "cell_type": "markdown",
   "id": "00b5c70b",
   "metadata": {},
   "source": [
    "### 6.2] Lasso"
   ]
  },
  {
   "cell_type": "code",
   "execution_count": 47,
   "id": "516f4e25",
   "metadata": {},
   "outputs": [
    {
     "data": {
      "text/plain": [
       "Lasso(alpha=0.01)"
      ]
     },
     "execution_count": 47,
     "metadata": {},
     "output_type": "execute_result"
    }
   ],
   "source": [
    "lasso_model = Lasso()\n",
    "hyperparameter = {\"alpha\":np.arange(0.01,5,0.01)}\n",
    "gscv  = GridSearchCV(lasso_model,hyperparameter,cv=5)\n",
    "gscv.fit(x_train,y_train)\n",
    "gscv.best_estimator_"
   ]
  },
  {
   "cell_type": "markdown",
   "id": "e83c7e07",
   "metadata": {},
   "source": [
    "# 7] Evalution Matrix:"
   ]
  },
  {
   "cell_type": "code",
   "execution_count": 48,
   "id": "e0ffa9ca",
   "metadata": {},
   "outputs": [
    {
     "data": {
      "text/plain": [
       "<Experiment: artifact_location='file:///E:/DataScience_Notes06_06_022/Pratice/Outliers/Medical_Insurance/mlruns/803464900007883335', creation_time=1669707978638, experiment_id='803464900007883335', last_update_time=1669707978638, lifecycle_stage='active', name='Medical_Insurance', tags={}>"
      ]
     },
     "execution_count": 48,
     "metadata": {},
     "output_type": "execute_result"
    }
   ],
   "source": [
    "import mlflow\n",
    "mlflow.sklearn.autolog\n",
    "mlflow.set_experiment('Medical_Insurance')"
   ]
  },
  {
   "cell_type": "code",
   "execution_count": 49,
   "id": "b322039e",
   "metadata": {},
   "outputs": [],
   "source": [
    "def eval_matrix(actual,predict):\n",
    "    mse = mean_squared_error(actual,predict)\n",
    "    rmse = np.sqrt(mse)\n",
    "    mae = mean_absolute_error(actual,predict)\n",
    "    r2_value = r2_score(actual,predict)\n",
    "    return mse,rmse,mae,r2_value"
   ]
  },
  {
   "cell_type": "markdown",
   "id": "b21c0242",
   "metadata": {},
   "source": [
    "##### 1] Linear Regression:"
   ]
  },
  {
   "cell_type": "code",
   "execution_count": 59,
   "id": "fb52b603",
   "metadata": {},
   "outputs": [
    {
     "name": "stdout",
     "output_type": "stream",
     "text": [
      "MSE: 0.19003582007343356\n",
      "RMSE: 0.43593098085985305\n",
      "MAE: 0.2714135050389531\n",
      "R2-value: 0.7829685952685935\n"
     ]
    }
   ],
   "source": [
    "with mlflow.start_run():\n",
    "    lin_reg_train = LinearRegression()\n",
    "    lin_reg_train.fit(x_train,y_train)\n",
    "    \n",
    "    y_pred_train = lin_reg_train.predict(x_train)\n",
    "    \n",
    "    mse,rmse,mae,r2_value = eval_matrix(y_train,y_pred_train)\n",
    "    \n",
    "    print(\"MSE:\",mse)\n",
    "    print(\"RMSE:\",rmse)\n",
    "    print(\"MAE:\",mae)\n",
    "    print(\"R2-value:\",r2_value)\n",
    "    \n",
    "    mlflow.log_metrics({\"MSE\":mse,\"RMSE\":rmse,\"MAE\":mae,\"R2 value\":r2_value})\n",
    "    mlflow.set_tag(\"mlflow.runName\",\"Linear_Train\")"
   ]
  },
  {
   "cell_type": "code",
   "execution_count": 51,
   "id": "d44d7c06",
   "metadata": {},
   "outputs": [
    {
     "name": "stdout",
     "output_type": "stream",
     "text": [
      "MSE: 0.208892813095612\n",
      "RMSE: 0.4570479330394264\n",
      "MAE: 0.2774036873811197\n",
      "R2-value: 0.7330891814602963\n"
     ]
    }
   ],
   "source": [
    "with mlflow.start_run():\n",
    "    lin_reg_test = LinearRegression()\n",
    "    lin_reg_test.fit(x_train,y_train)\n",
    "    \n",
    "    y_pred_test = lin_reg_test.predict(x_test)\n",
    "    \n",
    "    mse,rmse,mae,r2_value = eval_matrix(y_test,y_pred_test)\n",
    "    \n",
    "    print(\"MSE:\",mse)\n",
    "    print(\"RMSE:\",rmse)\n",
    "    print(\"MAE:\",mae)\n",
    "    print(\"R2-value:\",r2_value)\n",
    "    \n",
    "    mlflow.log_metrics({\"MSE\":mse,\"RMSE\":rmse,\"MAE\":mae,\"R2 value\":r2_value})\n",
    "    mlflow.set_tag(\"mlflow.runName\",\"Linear_Test\")"
   ]
  },
  {
   "cell_type": "markdown",
   "id": "c9d63764",
   "metadata": {},
   "source": [
    "#### 2] Ridge Regression:"
   ]
  },
  {
   "cell_type": "code",
   "execution_count": 52,
   "id": "a0a54498",
   "metadata": {},
   "outputs": [
    {
     "name": "stdout",
     "output_type": "stream",
     "text": [
      "MSE: 0.19003620327186996\n",
      "RMSE: 0.4359314203769556\n",
      "MAE: 0.2714544763896881\n",
      "R2-value: 0.78296815763481\n"
     ]
    }
   ],
   "source": [
    "with mlflow.start_run():\n",
    "    rid_reg_train = Ridge(alpha=0.14)\n",
    "    rid_reg_train.fit(x_train,y_train)\n",
    "    \n",
    "    y_pred_train = rid_reg_train.predict(x_train)\n",
    "    \n",
    "    mse,rmse,mae,r2_value = eval_matrix(y_train,y_pred_train)\n",
    "    \n",
    "    print(\"MSE:\",mse)\n",
    "    print(\"RMSE:\",rmse)\n",
    "    print(\"MAE:\",mae)\n",
    "    print(\"R2-value:\",r2_value)\n",
    "    \n",
    "    mlflow.log_metrics({\"MSE\":mse,\"RMSE\":rmse,\"MAE\":mae,\"R2 value\":r2_value})\n",
    "    mlflow.set_tag(\"mlflow.runName\",\"Ridge_Train\")"
   ]
  },
  {
   "cell_type": "code",
   "execution_count": 53,
   "id": "dad1ea41",
   "metadata": {},
   "outputs": [
    {
     "name": "stdout",
     "output_type": "stream",
     "text": [
      "MSE: 0.20885795581057034\n",
      "RMSE: 0.45700979837479455\n",
      "MAE: 0.27742820803246243\n",
      "R2-value: 0.7331337200269644\n"
     ]
    }
   ],
   "source": [
    "with mlflow.start_run():\n",
    "    rid_reg_test = Ridge(alpha=0.14)\n",
    "    rid_reg_test.fit(x_train,y_train)\n",
    "    \n",
    "    y_pred_test = rid_reg_test.predict(x_test)\n",
    "    \n",
    "    mse,rmse,mae,r2_value = eval_matrix(y_test,y_pred_test)\n",
    "    \n",
    "    print(\"MSE:\",mse)\n",
    "    print(\"RMSE:\",rmse)\n",
    "    print(\"MAE:\",mae)\n",
    "    print(\"R2-value:\",r2_value)\n",
    "    \n",
    "    mlflow.log_metrics({\"MSE\":mse,\"RMSE\":rmse,\"MAE\":mae,\"R2 value\":r2_value})\n",
    "    mlflow.set_tag(\"mlflow.runName\",\"Ridge_Test\")"
   ]
  },
  {
   "cell_type": "markdown",
   "id": "47fa65a5",
   "metadata": {},
   "source": [
    "#### 3] Lasso Regression:"
   ]
  },
  {
   "cell_type": "code",
   "execution_count": 54,
   "id": "e1752213",
   "metadata": {},
   "outputs": [
    {
     "name": "stdout",
     "output_type": "stream",
     "text": [
      "MSE: 0.19270052163647705\n",
      "RMSE: 0.4389766755039236\n",
      "MAE: 0.2741606430335104\n",
      "R2-value: 0.7799253588766658\n"
     ]
    }
   ],
   "source": [
    "with mlflow.start_run():\n",
    "    lasso_reg_train = Lasso(alpha=0.01)\n",
    "    lasso_reg_train.fit(x_train,y_train)\n",
    "    \n",
    "    y_pred_train = lasso_reg_train.predict(x_train)\n",
    "    \n",
    "    mse,rmse,mae,r2_value = eval_matrix(y_train,y_pred_train)\n",
    "    \n",
    "    print(\"MSE:\",mse)\n",
    "    print(\"RMSE:\",rmse)\n",
    "    print(\"MAE:\",mae)\n",
    "    print(\"R2-value:\",r2_value)\n",
    "    \n",
    "    mlflow.log_metrics({\"MSE\":mse,\"RMSE\":rmse,\"MAE\":mae,\"R2 value\":r2_value})\n",
    "    mlflow.set_tag(\"mlflow.runName\",\"Lasso_Train\")"
   ]
  },
  {
   "cell_type": "code",
   "execution_count": 55,
   "id": "166d80d2",
   "metadata": {},
   "outputs": [
    {
     "name": "stdout",
     "output_type": "stream",
     "text": [
      "MSE: 0.21133024311923965\n",
      "RMSE: 0.4597066924890692\n",
      "MAE: 0.28034558818335237\n",
      "R2-value: 0.729974778273807\n"
     ]
    }
   ],
   "source": [
    "with mlflow.start_run():\n",
    "    lasso_reg_test = Lasso(alpha=0.01)\n",
    "    lasso_reg_test.fit(x_train,y_train)\n",
    "    \n",
    "    y_pred_test = lasso_reg_test.predict(x_test)\n",
    "    \n",
    "    mse,rmse,mae,r2_value = eval_matrix(y_test,y_pred_test)\n",
    "    \n",
    "    print(\"MSE:\",mse)\n",
    "    print(\"RMSE:\",rmse)\n",
    "    print(\"MAE:\",mae)\n",
    "    print(\"R2-value:\",r2_value)\n",
    "    \n",
    "    mlflow.log_metrics({\"MSE\":mse,\"RMSE\":rmse,\"MAE\":mae,\"R2 value\":r2_value})\n",
    "    mlflow.set_tag(\"mlflow.runName\",\"Lasso_Test\")"
   ]
  },
  {
   "cell_type": "code",
   "execution_count": 60,
   "id": "5cb5c619",
   "metadata": {},
   "outputs": [],
   "source": [
    "import pickle\n",
    "import json"
   ]
  },
  {
   "cell_type": "code",
   "execution_count": 57,
   "id": "c9344858",
   "metadata": {},
   "outputs": [],
   "source": [
    "with open('lin_reg.pkl','wb') as f:\n",
    "    pickle.dump(lin_reg,f)"
   ]
  },
  {
   "cell_type": "code",
   "execution_count": 91,
   "id": "3d70ccd1",
   "metadata": {},
   "outputs": [
    {
     "data": {
      "text/plain": [
       "{'gender': {'male': 1, 'female': 0},\n",
       " 'smoker': {'no': 1, 'yes': 0},\n",
       " 'column': ['age',\n",
       "  'gender',\n",
       "  'bmi',\n",
       "  'children',\n",
       "  'smoker',\n",
       "  'region_northeast',\n",
       "  'region_northwest',\n",
       "  'region_southeast',\n",
       "  'region_southwest']}"
      ]
     },
     "execution_count": 91,
     "metadata": {},
     "output_type": "execute_result"
    }
   ],
   "source": [
    "predict_data = {'gender': {'male': 1, 'female': 0},\n",
    "                'smoker': {'no': 1, 'yes': 0},\n",
    "                'column': x.columns.tolist()}\n",
    "predict_data"
   ]
  },
  {
   "cell_type": "code",
   "execution_count": 92,
   "id": "0583c4e5",
   "metadata": {},
   "outputs": [],
   "source": [
    "with open('predict_data.json','w') as f:\n",
    "    json.dump(predict_data,f)"
   ]
  },
  {
   "cell_type": "markdown",
   "id": "a23ebb41",
   "metadata": {},
   "source": [
    "# 8] Framework Development: "
   ]
  },
  {
   "cell_type": "code",
   "execution_count": 102,
   "id": "ff8441d0",
   "metadata": {},
   "outputs": [
    {
     "name": "stdout",
     "output_type": "stream",
     "text": [
      "[25.  1. 28.  0.  1.  0.  0.  1.  0.]\n",
      "The Insurance Amount Is: 3041.1773329434304\n"
     ]
    }
   ],
   "source": [
    "age =25\n",
    "gender = 'male'\n",
    "bmi = 28\n",
    "children = 0\n",
    "smoker = 'no'\n",
    "region = 'southeast'\n",
    "\n",
    "\n",
    "gender = predict_data['gender'][gender]\n",
    "smoker = predict_data['smoker'][smoker]\n",
    "\n",
    "region = \"region_\"+ region\n",
    "region_index = predict_data['column'].index(region)\n",
    "array = np.zeros(x.shape[1])\n",
    "\n",
    "array[0] = age\n",
    "array[1] = gender\n",
    "array[2] = bmi\n",
    "array[3] = children\n",
    "array[4] = smoker\n",
    "array[region_index] = 1 \n",
    "print(array)\n",
    "def get_pred_value(x):\n",
    "    predicted_value = np.around(lin_reg.predict([x])[0],2)\n",
    "    print(\"The Insurance Amount Is:\",np.exp(predicted_value))\n",
    "    \n",
    "get_pred_value(array)    "
   ]
  },
  {
   "cell_type": "markdown",
   "id": "42e254bc",
   "metadata": {},
   "source": [
    "# 9] Deployment On Cloud-platform:"
   ]
  },
  {
   "cell_type": "code",
   "execution_count": null,
   "id": "e21255ba",
   "metadata": {},
   "outputs": [],
   "source": []
  },
  {
   "cell_type": "code",
   "execution_count": null,
   "id": "5804f4cd",
   "metadata": {},
   "outputs": [],
   "source": []
  }
 ],
 "metadata": {
  "kernelspec": {
   "display_name": "Python 3 (ipykernel)",
   "language": "python",
   "name": "python3"
  },
  "language_info": {
   "codemirror_mode": {
    "name": "ipython",
    "version": 3
   },
   "file_extension": ".py",
   "mimetype": "text/x-python",
   "name": "python",
   "nbconvert_exporter": "python",
   "pygments_lexer": "ipython3",
   "version": "3.9.12"
  }
 },
 "nbformat": 4,
 "nbformat_minor": 5
}
