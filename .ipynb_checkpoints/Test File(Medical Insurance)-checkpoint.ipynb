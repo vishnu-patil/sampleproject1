{
 "cells": [
  {
   "cell_type": "code",
   "execution_count": 1,
   "id": "af0310e3",
   "metadata": {},
   "outputs": [],
   "source": [
    "import pickle\n",
    "import pandas as pd\n",
    "import numpy as np\n",
    "import warnings\n",
    "warnings.filterwarnings('ignore')"
   ]
  },
  {
   "cell_type": "code",
   "execution_count": 2,
   "id": "2c999023",
   "metadata": {},
   "outputs": [
    {
     "data": {
      "text/plain": [
       "LinearRegression()"
      ]
     },
     "execution_count": 2,
     "metadata": {},
     "output_type": "execute_result"
    }
   ],
   "source": [
    "with open('lin_reg.pkl','rb') as r:\n",
    "    model = pickle.load(r)\n",
    "model    "
   ]
  },
  {
   "cell_type": "code",
   "execution_count": 4,
   "id": "bff59365",
   "metadata": {},
   "outputs": [
    {
     "name": "stdout",
     "output_type": "stream",
     "text": [
      "Enter Your Age:25\n",
      "Enter Your Gender(male/female):male\n",
      "Enter Your Body mass:28\n",
      "Enter No. of Childerns:0\n",
      "Are you Smoker(yes/no):no\n",
      "Enter your rigion(northeast, southeast, southwest, northwest):southeast\n",
      "[25.  1. 28.  0.  1.  0.  1.  0.  0.]\n",
      "The Pridicted Insurance: 3370.8\n"
     ]
    }
   ],
   "source": [
    "age = int(input(\"Enter Your Age:\"))\n",
    "sex = input(\"Enter Your Gender(male/female):\")\n",
    "bmi = float(input(\"Enter Your Body mass:\"))\n",
    "childern = int(input(\"Enter No. of Childerns:\"))\n",
    "smoke = input(\"Are you Smoker(yes/no):\")\n",
    "region = input(\"Enter your rigion(northeast, southeast, southwest, northwest):\")\n",
    "\n",
    "columns = [age,sex,bmi,childern,smoke,'northeast', 'southeast', 'southwest', 'northwest']\n",
    "index = columns.index(region)\n",
    "\n",
    "sex_dict = {'male': 1, 'female': 0}\n",
    "smoke_dict = {'no': 1, 'yes': 0}\n",
    "\n",
    "sex_ = sex_dict.get(sex) \n",
    "smoke_ = smoke_dict.get(smoke) \n",
    "\n",
    "col_array = np.zeros(len(columns))\n",
    "col_array[0] = age\n",
    "col_array[1] = sex_\n",
    "col_array[2] = bmi\n",
    "col_array[3] = childern\n",
    "col_array[4] = smoke_\n",
    "col_array[index] = 1\n",
    "print(col_array)\n",
    "test_array = np.array(col_array, ndmin = 2)\n",
    "\n",
    "def get_pred_value(x):\n",
    "    predicted_insurance = model.predict(x)[0]\n",
    "    print(\"The Pridicted Insurance:\",np.around(np.exp(predicted_insurance),2))\n",
    "    \n",
    "get_pred_value(test_array)"
   ]
  },
  {
   "cell_type": "code",
   "execution_count": null,
   "id": "2a22968a",
   "metadata": {},
   "outputs": [],
   "source": []
  }
 ],
 "metadata": {
  "kernelspec": {
   "display_name": "Python 3 (ipykernel)",
   "language": "python",
   "name": "python3"
  },
  "language_info": {
   "codemirror_mode": {
    "name": "ipython",
    "version": 3
   },
   "file_extension": ".py",
   "mimetype": "text/x-python",
   "name": "python",
   "nbconvert_exporter": "python",
   "pygments_lexer": "ipython3",
   "version": "3.9.12"
  },
  "vscode": {
   "interpreter": {
    "hash": "dfeb564681d69584671e5f76abaa87670ead3cb408e0b3c5d54da982bea19f3a"
   }
  }
 },
 "nbformat": 4,
 "nbformat_minor": 5
}
